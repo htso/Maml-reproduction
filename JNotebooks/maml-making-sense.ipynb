{
 "cells": [
  {
   "cell_type": "code",
   "execution_count": 1,
   "metadata": {},
   "outputs": [
    {
     "name": "stderr",
     "output_type": "stream",
     "text": [
      "WARN: Cannot define MaxPoolGrad, likely already defined for this version of tensorflow: \"Registering two gradient with name 'MaxPoolGrad' !(Previous registration was in <module> /home/rspace/anaconda3/lib/python3.6/site-packages/ipykernel_launcher.py:16)\"\n"
     ]
    }
   ],
   "source": [
    "import os\n",
    "import sys\n",
    "import time\n",
    "import matplotlib as pl\n",
    "import matplotlib.pyplot as plt\n",
    "import csv\n",
    "import numpy as np\n",
    "import pandas as pd\n",
    "from itertools import product\n",
    "import pickle\n",
    "import random\n",
    "from FunGenerator import FunGenerator\n",
    "import tensorflow as tf\n",
    "from maml1 import MAML\n",
    "from tensorflow.python.platform import flags"
   ]
  },
  {
   "cell_type": "code",
   "execution_count": null,
   "metadata": {
    "collapsed": true
   },
   "outputs": [],
   "source": [
    "datasource = 'sinusoid'\n",
    "num_classes = 1\n",
    "baseline = None\n",
    "pretrain_iterations = 0\n",
    "metatrain_iterations = 70000\n",
    "meta_batch_size =25\n",
    "meta_lr = 0.001\n",
    "update_batch_size = 10\n",
    "update_lr = 1e-3\n",
    "num_updates = 1\n",
    "norm = None\n",
    "stop_grad = False\n",
    "log_flag = True\n",
    "logdir = 'logs/sine'\n",
    "resume = True\n",
    "train_flag = True\n",
    "test_iter = -1\n",
    "test_set = False\n",
    "train_update_batch_size = -1\n",
    "train_update_lr = -1"
   ]
  },
  {
   "cell_type": "code",
   "execution_count": 10,
   "metadata": {},
   "outputs": [
    {
     "name": "stdout",
     "output_type": "stream",
     "text": [
      "     w1   w2       ph1       ph2\n",
      "0   1.0  3.0  0.314159  1.256637\n",
      "1   1.0  3.0  0.314159  1.780236\n",
      "2   1.0  3.0  0.314159  2.303835\n",
      "3   1.0  3.0  0.314159  2.827433\n",
      "4   1.0  3.0  0.837758  1.256637\n",
      "5   1.0  3.0  0.837758  1.780236\n",
      "6   1.0  3.0  0.837758  2.303835\n",
      "7   1.0  3.0  0.837758  2.827433\n",
      "8   1.0  3.0  1.361357  1.256637\n",
      "9   1.0  3.0  1.361357  1.780236\n",
      "10  1.0  3.0  1.361357  2.303835\n",
      "11  1.0  3.0  1.361357  2.827433\n",
      "12  1.0  3.0  1.884956  1.256637\n",
      "13  1.0  3.0  1.884956  1.780236\n",
      "14  1.0  3.0  1.884956  2.303835\n",
      "15  1.0  3.0  1.884956  2.827433\n"
     ]
    }
   ],
   "source": [
    "dg = FunGenerator(num_pts=100, batch_size=1, randomize=False)\n",
    "#print(dir(dg))\n",
    "#print(dg.batch_size)\n",
    "#print(dg.input_range)\n",
    "print(dg.Grid)"
   ]
  },
  {
   "cell_type": "code",
   "execution_count": 15,
   "metadata": {},
   "outputs": [
    {
     "name": "stdout",
     "output_type": "stream",
     "text": [
      "(1, 100, 1)\n"
     ]
    }
   ],
   "source": [
    "X1, Y1, _, _ = dg.generate(x_range=[0,1], randomize=False, train=False, add_noise=True, noise_sd=0.2)\n",
    "print(X1.shape)"
   ]
  },
  {
   "cell_type": "code",
   "execution_count": 8,
   "metadata": {},
   "outputs": [
    {
     "name": "stdout",
     "output_type": "stream",
     "text": [
      "[[[ 0.09415967]\n",
      "  [-0.84328635]\n",
      "  [ 0.67032482]\n",
      "  [ 0.19035008]\n",
      "  [-0.02400525]\n",
      "  [-0.42547343]\n",
      "  [-0.30514732]\n",
      "  [ 0.84286773]\n",
      "  [-0.24438568]\n",
      "  [ 0.10378459]]]\n"
     ]
    }
   ],
   "source": [
    "print(Y1)"
   ]
  },
  {
   "cell_type": "code",
   "execution_count": 16,
   "metadata": {},
   "outputs": [
    {
     "data": {
      "image/png": "[encoded data removed]",
      "text/plain": [
       "<Figure size 432x288 with 2 Axes>"
      ]
     },
     "metadata": {},
     "output_type": "display_data"
    }
   ],
   "source": [
    "f, ax = plt.subplots(2,1)\n",
    "ax[0].plot(X1[0], Y1[0], '-', color='red');\n",
    "#ax[1].plot(X2[2], Y2[2], '-', color='red');\n",
    "#ax[2].plot(X3[2], Y3[2], '-', color='red');\n",
    "plt.show()"
   ]
  },
  {
   "cell_type": "code",
   "execution_count": 19,
   "metadata": {},
   "outputs": [
    {
     "name": "stdout",
     "output_type": "stream",
     "text": [
      "hello12_world34\n"
     ]
    }
   ],
   "source": [
    "a = 12\n",
    "b = 34\n",
    "fnm = 'hello%d_world%d' % (a, b)\n",
    "print(fnm)"
   ]
  },
  {
   "cell_type": "code",
   "execution_count": null,
   "metadata": {
    "collapsed": true
   },
   "outputs": [],
   "source": [
    "ddt = {'xyz':0.01}\n",
    "xx = ddt.get('amp_range', [0.1, 5.0])\n",
    "print(xx)"
   ]
  },
  {
   "cell_type": "code",
   "execution_count": null,
   "metadata": {
    "collapsed": true
   },
   "outputs": [],
   "source": [
    "# having [] around size\n",
    "aa = np.random.uniform(0.2, 0.7, [3])\n",
    "print(aa)\n",
    "aa1 = np.random.uniform(0.2, 0.7, 3)\n",
    "print(aa1)"
   ]
  },
  {
   "cell_type": "code",
   "execution_count": null,
   "metadata": {
    "collapsed": true
   },
   "outputs": [],
   "source": [
    "batch_x, batch_y, amp, phase = dg.generate()\n",
    "print('x:',batch_x.shape)\n",
    "print('y:', batch_y.shape)\n",
    "print(len(amp))\n",
    "print(len(phase))"
   ]
  },
  {
   "cell_type": "code",
   "execution_count": null,
   "metadata": {
    "collapsed": true,
    "scrolled": true
   },
   "outputs": [],
   "source": [
    "print(batch_x[12,:,0])"
   ]
  },
  {
   "cell_type": "code",
   "execution_count": null,
   "metadata": {
    "collapsed": true
   },
   "outputs": [],
   "source": [
    "dim_output = dg.dim_output\n",
    "print(dim_output)\n",
    "dim_input = dg.dim_input\n",
    "print(dim_input)\n",
    "tf_data_load = False\n",
    "input_tensors = None"
   ]
  },
  {
   "cell_type": "code",
   "execution_count": null,
   "metadata": {
    "collapsed": true
   },
   "outputs": [],
   "source": [
    "model = MAML(dim_input, dim_output, test_num_updates=test_num_updates)"
   ]
  },
  {
   "cell_type": "code",
   "execution_count": null,
   "metadata": {
    "collapsed": true
   },
   "outputs": [],
   "source": [
    "model.construct_model(input_tensors=input_tensors, prefix='metatrain_')"
   ]
  },
  {
   "cell_type": "code",
   "execution_count": null,
   "metadata": {
    "collapsed": true
   },
   "outputs": [],
   "source": [
    "model.summ_op = tf.summary.merge_all()"
   ]
  },
  {
   "cell_type": "code",
   "execution_count": null,
   "metadata": {
    "collapsed": true
   },
   "outputs": [],
   "source": [
    "saver = loader = tf.train.Saver(tf.get_collection(tf.GraphKeys.TRAINABLE_VARIABLES), max_to_keep=10)"
   ]
  },
  {
   "cell_type": "code",
   "execution_count": null,
   "metadata": {
    "collapsed": true
   },
   "outputs": [],
   "source": [
    "sess = tf.InteractiveSession()"
   ]
  },
  {
   "cell_type": "code",
   "execution_count": null,
   "metadata": {
    "collapsed": true
   },
   "outputs": [],
   "source": [
    "exp_string = 'cls_'+str(num_classes)+'.mbs_'+str(meta_batch_size) + \\\n",
    "  '.ubs_' + str(train_update_batch_size) + '.numstep' + \\\n",
    "    str(num_updates) + '.updatelr' + str(train_update_lr)\n",
    "print(exp_string)"
   ]
  },
  {
   "cell_type": "code",
   "execution_count": null,
   "metadata": {
    "collapsed": true
   },
   "outputs": [],
   "source": [
    "resume_itr = 0\n",
    "model_file = None\n",
    "\n",
    "tf.global_variables_initializer().run()\n",
    "tf.train.start_queue_runners()"
   ]
  },
  {
   "cell_type": "code",
   "execution_count": null,
   "metadata": {
    "collapsed": true
   },
   "outputs": [],
   "source": [
    "aa = 'metatrain'\n",
    "if 'train' in aa:\n",
    "    print('yes')"
   ]
  },
  {
   "cell_type": "code",
   "execution_count": null,
   "metadata": {
    "collapsed": true
   },
   "outputs": [],
   "source": [
    "trend = np.linspace(1, 10, num=5)\n",
    "print(x1)"
   ]
  },
  {
   "cell_type": "code",
   "execution_count": null,
   "metadata": {
    "collapsed": true
   },
   "outputs": [],
   "source": [
    "amp_range = [0.1, 5.0]\n",
    "phase_range = [0, np.pi]\n",
    "input_range = [-5.0, 5.0]\n",
    "batch_size = 2\n",
    "dim_input = 1\n",
    "dim_output = 1\n",
    "num_samples_per_class = 5\n",
    "sigma = 0.1\n",
    "drift = 0.1\n",
    "\n",
    "amp = np.random.uniform(amp_range[0], amp_range[1], [batch_size])\n",
    "phase = np.random.uniform(phase_range[0], phase_range[1], [batch_size])\n",
    "outputs = np.zeros([batch_size, num_samples_per_class, dim_output])\n",
    "init_inputs = np.zeros([batch_size, num_samples_per_class, dim_input])\n",
    "\n",
    "init_inputs[0] = np.random.uniform(input_range[0], input_range[1], [num_samples_per_class, 1])\n",
    "print('init_input \\n', init_inputs[0])\n",
    "\n",
    "ep = np.random.normal(0.0, sigma, size=[num_samples_per_class,1])\n",
    "print('ep', ep)"
   ]
  },
  {
   "cell_type": "code",
   "execution_count": null,
   "metadata": {
    "collapsed": true
   },
   "outputs": [],
   "source": [
    "slp = 1.0\n",
    "offset = 0\n",
    "trend = init_inputs[0]*slp + offset\n",
    "print(trend)"
   ]
  },
  {
   "cell_type": "code",
   "execution_count": null,
   "metadata": {
    "collapsed": true
   },
   "outputs": [],
   "source": [
    "outputs[0] = amp[0] * np.sin(init_inputs[0] - phase[0]) + trend\n",
    "print(outputs[0])\n",
    "xx = np.linspace(-5, 5, num=100)\n",
    "yy = amp[0] * np.sin(xx - phase[0]) + xx*slp + offset"
   ]
  },
  {
   "cell_type": "code",
   "execution_count": null,
   "metadata": {
    "collapsed": true
   },
   "outputs": [],
   "source": [
    "import matplotlib.pyplot as plt\n",
    "plt.style.use('seaborn-whitegrid')\n",
    "plt.plot(xx, yy, 'o', color='black');\n",
    "plt.plot(init_inputs[0], outputs[0], 's', color='red');\n",
    "plt.show()"
   ]
  },
  {
   "cell_type": "code",
   "execution_count": null,
   "metadata": {
    "collapsed": true
   },
   "outputs": [],
   "source": [
    "xx = np.linspace(-5, 5, num=100)\n",
    "yy = amp[0] * np.sin(3*xx - 0.5)*np.sin(0.1*xx + 0.1)\n",
    "plt.plot(xx, yy, 'o', color='black');\n",
    "plt.show()"
   ]
  },
  {
   "cell_type": "code",
   "execution_count": null,
   "metadata": {
    "collapsed": true
   },
   "outputs": [],
   "source": [
    "# equivalent of R's seq \n",
    "#rr = list(range(3.0, 10.0, step=float((10-3)/5)))\n",
    "#print(rr) # Noop\n",
    "rr = np.linspace(3, 10, num=5)\n",
    "print(rr)"
   ]
  },
  {
   "cell_type": "code",
   "execution_count": null,
   "metadata": {
    "collapsed": true
   },
   "outputs": [],
   "source": [
    "from itertools import product\n",
    "import pandas as pd\n",
    "\n",
    "def expand_grid(dictionary):\n",
    "   return pd.DataFrame([row for row in product(*dictionary.values())], columns=dictionary.keys())"
   ]
  },
  {
   "cell_type": "code",
   "execution_count": null,
   "metadata": {
    "collapsed": true
   },
   "outputs": [],
   "source": [
    "w1 = np.linspace(0.1, 2.5, num=4)\n",
    "w2 = np.linspace(0.1, 2.5, num=4)\n",
    "ph1 = np.linspace(0.1*np.pi, 0.6*np.pi, num=4)\n",
    "ph2 = np.linspace(0.4*np.pi, 0.9*np.pi, num=4)\n",
    "grid_cols = {'w1': w1, 'w2': w2, 'ph1':ph1, 'ph2':ph2}"
   ]
  },
  {
   "cell_type": "code",
   "execution_count": null,
   "metadata": {
    "collapsed": true
   },
   "outputs": [],
   "source": [
    "Grid = expand_grid(grid_cols)\n",
    "print(Grid.iloc[:5])\n",
    "print(Grid.iloc[-5:])"
   ]
  },
  {
   "cell_type": "code",
   "execution_count": null,
   "metadata": {
    "collapsed": true
   },
   "outputs": [],
   "source": [
    "ix = np.where(Grid['w1']!=Grid['w2'])\n",
    "print(len(ix[0]))\n",
    "#print(Grid.iloc[ix])\n",
    "G2 = Grid.iloc[ix]\n",
    "print(G2.iloc[3,2])"
   ]
  },
  {
   "cell_type": "code",
   "execution_count": null,
   "metadata": {
    "collapsed": true
   },
   "outputs": [],
   "source": [
    "dg = FunGenerator(100, 5, 0)\n",
    "xx, yy, _, _ = dg.generate(0)\n",
    "print(xx.shape)\n",
    "print(yy.shape)\n",
    "xx1, yy1, _, _ = dg.generate(1, 1.0)\n",
    "xx2, yy2, _, _ = dg.generate(2, 0.5, 0.5, 0.0)\n",
    "xx3, yy3, _, _ = dg.generate(1, 0.8)"
   ]
  },
  {
   "cell_type": "code",
   "execution_count": null,
   "metadata": {
    "collapsed": true
   },
   "outputs": [],
   "source": [
    "f, ax = plt.subplots(2,2)\n",
    "ax[0,0].plot(xx[1], yy[1], 's', color='red');\n",
    "#ax[0,1].plot(xx1[1], yy1[1], 's', color='red');\n",
    "#ax[1,0].plot(xx2[1], yy2[1], 's', color='red');\n",
    "#ax[1,1].plot(xx3[1], yy3[1], 's', color='red');\n",
    "ax[0,0].set_title('hello')\n",
    "plt.show()"
   ]
  },
  {
   "cell_type": "code",
   "execution_count": null,
   "metadata": {
    "collapsed": true
   },
   "outputs": [],
   "source": [
    "dg1 = FunGenerator(100, 5, 1)\n",
    "xx, yy, G = dg1.generate()\n",
    "print(xx.shape)\n",
    "print(yy.shape)\n",
    "print(G.shape)"
   ]
  },
  {
   "cell_type": "code",
   "execution_count": null,
   "metadata": {
    "collapsed": true
   },
   "outputs": [],
   "source": [
    "plt.plot(xx[20], yy[20], 's', color='red');\n",
    "plt.show()"
   ]
  },
  {
   "cell_type": "code",
   "execution_count": null,
   "metadata": {
    "collapsed": true
   },
   "outputs": [],
   "source": [
    "dg = DataGenerator(20, 5)\n",
    "xx, yy, amp, phase = dg.generate(train=False, test_amp_rng=[5.0, 6.0], test_offset=2.0)\n",
    "print(xx.shape)\n",
    "print(yy.shape)"
   ]
  },
  {
   "cell_type": "code",
   "execution_count": null,
   "metadata": {
    "collapsed": true
   },
   "outputs": [],
   "source": [
    "f, ax = plt.subplots(2,2)\n",
    "ax[0,0].plot(xx[0], yy[0], 'o', color='red');\n",
    "ax[0,1].plot(xx[1], yy[1], 'o', color='red');\n",
    "ax[1,0].plot(xx[2], yy[2], 'o', color='red');\n",
    "ax[1,1].plot(xx[3], yy[3], 'o', color='red');\n",
    "plt.show()"
   ]
  },
  {
   "cell_type": "code",
   "execution_count": null,
   "metadata": {
    "collapsed": true
   },
   "outputs": [],
   "source": [
    "# this adds a number to a list to make a longer list\n",
    "a = 1.0\n",
    "b = [2.0, 3.2, 4.3]\n",
    "c = [a] + b\n",
    "print(c)"
   ]
  },
  {
   "cell_type": "code",
   "execution_count": null,
   "metadata": {
    "collapsed": true
   },
   "outputs": [],
   "source": [
    "dg = FunGenerator(30, 9)\n",
    "xx, yy, _, _ = dg.generate()\n",
    "print(xx.shape)\n",
    "print(yy.shape)\n",
    "print(subg.shape)"
   ]
  },
  {
   "cell_type": "code",
   "execution_count": null,
   "metadata": {
    "collapsed": true
   },
   "outputs": [],
   "source": [
    "f, ax = plt.subplots(3,3, sharey=True)\n",
    "ax[0,0].scatter(xx[0,:,0], yy[0,:,0], marker='o', color='red')\n",
    "ax[0,1].scatter(xx[1,:,0], yy[1,:,0], marker='o', color='red')\n",
    "ax[0,2].scatter(xx[2,:,0], yy[2,:,0], marker='o', color='red')\n",
    "ax[1,0].scatter(xx[3,:,0], yy[3,:,0], marker='o', color='red')\n",
    "ax[1,1].scatter(xx[4,:,0], yy[4,:,0], marker='o', color='red')\n",
    "ax[1,2].scatter(xx[5,:,0], yy[5,:,0], marker='o', color='red')\n",
    "ax[2,0].scatter(xx[6,:,0], yy[6,:,0], marker='o', color='red')\n",
    "ax[2,1].scatter(xx[7,:,0], yy[7,:,0], marker='o', color='red')\n",
    "ax[2,2].scatter(xx[8,:,0], yy[8,:,0], marker='o', color='red')\n",
    "plt.show()"
   ]
  },
  {
   "cell_type": "code",
   "execution_count": null,
   "metadata": {
    "collapsed": true
   },
   "outputs": [],
   "source": [
    "w1 = np.linspace(0.1, 2.5, num=5)\n",
    "w2 = np.linspace(0.1, 2.5, num=5)\n",
    "ph1 = np.linspace(0.1*np.pi, 0.6*np.pi, num=5)\n",
    "ph2 = np.linspace(0.4*np.pi, 0.9*np.pi, num=5)\n",
    "grid_cols = {'w1':w1, 'w2':w2, 'ph1':ph1, 'ph2':ph2}\n",
    "G1 = expand_grid(grid_cols)\n",
    "ix = np.where(G1['w1'] != G1['w2'])\n",
    "Grid = G1.iloc[ix]\n",
    "print(Grid.shape)\n",
    "print(Grid.iloc[:10,:])"
   ]
  },
  {
   "cell_type": "code",
   "execution_count": null,
   "metadata": {
    "collapsed": true
   },
   "outputs": [],
   "source": [
    "ix1 = np.random.choice(Grid.shape[0], Grid.shape[0], replace=False)\n",
    "print(ix1)\n",
    "Grid = Grid.iloc[ix1]\n",
    "print(Grid)"
   ]
  },
  {
   "cell_type": "code",
   "execution_count": null,
   "metadata": {
    "collapsed": true
   },
   "outputs": [],
   "source": [
    "x_data = np.linspace(-5.0, 5.0, 100)[:, np.newaxis]\n",
    "noise = np.random.normal(0, 0.05, x_data.shape)\n",
    "#y_data = np.square(x_data) - 0.5 + noise\n",
    "y_data = np.sin(0.2*x_data + 0.1*np.pi)*np.cos(0.8*x_data + 0.3*np.pi) + noise"
   ]
  },
  {
   "cell_type": "code",
   "execution_count": null,
   "metadata": {
    "collapsed": true
   },
   "outputs": [],
   "source": [
    "xs = tf.placeholder(tf.float32, [None, 1])\n",
    "ys = tf.placeholder(tf.float32, [None, 1])\n",
    "print(ys.shape)"
   ]
  },
  {
   "cell_type": "code",
   "execution_count": null,
   "metadata": {
    "collapsed": true
   },
   "outputs": [],
   "source": [
    "Hn = [23, 37]\n",
    "W1 = tf.Variable(tf.truncated_normal([1, Hn[0]], stddev=0.01))\n",
    "W2 = tf.Variable(tf.truncated_normal([Hn[0], Hn[1]], stddev=0.01))\n",
    "W3 = tf.Variable(tf.truncated_normal([Hn[1], 1], stddev=0.01))\n",
    "b1 = tf.Variable(tf.zeros([1, Hn[0]]) + 0.1)\n",
    "b2 = tf.Variable(tf.zeros([1, Hn[1]]) + 0.1)\n",
    "b3 = tf.Variable(tf.zeros([1, 1]) + 0.1)\n",
    "\n",
    "H1 = tf.matmul(xs, W1) + b1\n",
    "A1 = tf.nn.relu(H1)\n",
    "H2 = tf.matmul(A1, W2) + b2\n",
    "A2 = tf.nn.relu(H2)\n",
    "y_hat = tf.matmul(A2, W3) + b3"
   ]
  },
  {
   "cell_type": "code",
   "execution_count": null,
   "metadata": {
    "collapsed": true
   },
   "outputs": [],
   "source": [
    "print('H1 shape :', H1.shape)\n",
    "print('H2 shape :', H2.shape)\n",
    "print('y_hat shape:', y_hat.shape)"
   ]
  },
  {
   "cell_type": "code",
   "execution_count": null,
   "metadata": {
    "collapsed": true
   },
   "outputs": [],
   "source": [
    "loss = tf.reduce_mean(tf.reduce_sum(tf.square(ys - y_hat), axis=0))\n",
    "train_step = tf.train.RMSPropOptimizer(0.001, 0.9).minimize(loss)"
   ]
  },
  {
   "cell_type": "code",
   "execution_count": null,
   "metadata": {
    "collapsed": true
   },
   "outputs": [],
   "source": [
    "sess = tf.Session()\n",
    "init = tf.global_variables_initializer()\n",
    "sess.run(init)"
   ]
  },
  {
   "cell_type": "code",
   "execution_count": null,
   "metadata": {
    "collapsed": true
   },
   "outputs": [],
   "source": [
    "x_data = np.linspace(-5.0, 5.0, 100)[:, np.newaxis]\n",
    "noise = np.random.normal(0, 0.05, x_data.shape)\n",
    "#y_data = np.square(x_data) - 0.5 + noise\n",
    "y_data = np.sin(0.2*x_data + 0.1*np.pi)*np.cos(0.8*x_data + 0.3*np.pi) + noise"
   ]
  },
  {
   "cell_type": "code",
   "execution_count": null,
   "metadata": {
    "collapsed": true
   },
   "outputs": [],
   "source": [
    "fig = plt.figure()\n",
    "ax = fig.add_subplot(1,1,1)\n",
    "ax.scatter(x_data, y_data)\n",
    "ax.set_ylim(-1.0, 1.0)\n",
    "#plt.ion()\n",
    "\n",
    "\n",
    "for i in range(10000):\n",
    "    # training\n",
    "    sess.run(train_step, feed_dict={xs: x_data, ys: y_data})\n",
    "\n",
    "    if i % 100 == 0:\n",
    "        lss = sess.run(loss, feed_dict={xs: x_data, ys: y_data})\n",
    "        print('loss:', lss)\n",
    "\n",
    "        # to visualize the result and improvement\n",
    "        try:\n",
    "            ax.lines.remove(lines[0])\n",
    "        except Exception:\n",
    "            pass\n",
    "        prediction_value = sess.run(y_hat, feed_dict={xs: x_data})\n",
    "        # plot the prediction\n",
    "        lines = ax.plot(x_data, prediction_value, 'r-', lw=5)\n",
    "        #plt.pause(1)\n",
    "\n",
    "ax.plot(x_data, prediction_value, 'r-', lw=5)        \n",
    "plt.show()"
   ]
  },
  {
   "cell_type": "code",
   "execution_count": null,
   "metadata": {
    "collapsed": true
   },
   "outputs": [],
   "source": [
    "ss = 'hello-'\n",
    "ss1 = ss*3\n",
    "print(ss1)"
   ]
  },
  {
   "cell_type": "code",
   "execution_count": null,
   "metadata": {
    "collapsed": true
   },
   "outputs": [],
   "source": [
    "int1 = np.linspace(0,1, num=10, endpoint=False)\n",
    "int2 = np.linspace(1,2, num=10, endpoint=True )\n",
    "int3 = np.concatenate([int1, int2])\n",
    "print(int1)\n",
    "print(int2)\n",
    "print(int3)"
   ]
  },
  {
   "cell_type": "code",
   "execution_count": null,
   "metadata": {
    "collapsed": true
   },
   "outputs": [],
   "source": [
    "print(np.mean(int3[-3:]))"
   ]
  },
  {
   "cell_type": "code",
   "execution_count": null,
   "metadata": {
    "collapsed": true
   },
   "outputs": [],
   "source": [
    "xx = np.array([[[1.0]]])\n",
    "print(xx.shape)\n",
    "xx1 = [2.0]\n",
    "xx3 = np.concatenate([xx1, xx.flatten()])\n",
    "print(xx3)"
   ]
  },
  {
   "cell_type": "code",
   "execution_count": null,
   "metadata": {
    "collapsed": true
   },
   "outputs": [],
   "source": [
    "n_train_pts = 10\n",
    "n_val_pts = 10\n",
    "n_test_pts = 10\n",
    "ix = np.random.choice(100, n_train_pts+n_val_pts, replace=False)\n",
    "ix1 = np.random.choice(np.arange(100, 150, 1), n_test_pts, replace=False)\n",
    "print(ix)\n",
    "print(ix1)"
   ]
  },
  {
   "cell_type": "code",
   "execution_count": null,
   "metadata": {
    "collapsed": true
   },
   "outputs": [],
   "source": [
    "path = '/media/rspace/WanChai/Dropbox/TSOTHOUGHTS/Tensorflow-CODE/maml_ht/FitFunShapes/'\n",
    "fnm = 'Param-1-50.pkl'\n",
    "f = open(path+fnm, 'rb')\n",
    "xx = pickle.load(f)\n",
    "print('param keys:', xx.keys())\n",
    "xx1 = pickle.load(f)\n",
    "print('dist keys:', xx1.keys())"
   ]
  },
  {
   "cell_type": "code",
   "execution_count": null,
   "metadata": {
    "collapsed": true
   },
   "outputs": [],
   "source": [
    "param = xx['param']\n",
    "print(len(param))\n",
    "print(len(param[0]))"
   ]
  },
  {
   "cell_type": "code",
   "execution_count": null,
   "metadata": {
    "collapsed": true
   },
   "outputs": [],
   "source": [
    "dist = xx1['dist_from_start']\n",
    "print(len(dist))\n",
    "print(dist)"
   ]
  },
  {
   "cell_type": "code",
   "execution_count": null,
   "metadata": {
    "collapsed": true
   },
   "outputs": [],
   "source": [
    "a1 = []\n",
    "b1 = [0,2,3]\n",
    "b2 = [2]\n",
    "b3 = [-1,3,4,5,6,7,8]\n",
    "a1.append(b1)\n",
    "a1.append(b2)\n",
    "a1.append(b3)\n",
    "print(a1)"
   ]
  },
  {
   "cell_type": "code",
   "execution_count": null,
   "metadata": {
    "collapsed": true
   },
   "outputs": [],
   "source": [
    "xmin = -5*np.pi\n",
    "xmax = 5*np.pi\n",
    "num_pts = 500\n",
    "x = np.reshape(np.linspace(xmin, xmax, num=num_pts), newshape=(num_pts,1))\n",
    "y = np.sin(1.5*x + 0.5*np.pi) * np.cos(2.0*x + 0.1*np.pi)\n",
    "plt.plot(x, y)\n",
    "plt.show()"
   ]
  },
  {
   "cell_type": "code",
   "execution_count": null,
   "metadata": {},
   "outputs": [],
   "source": [
    "from FunGenerator import FunGenerator\n",
    "fg = FunGenerator(num_pts=0, batch_size=0, randomize=False)\n",
    "Grid = fg.Grid\n",
    "print(Grid.shape)"
   ]
  },
  {
   "cell_type": "code",
   "execution_count": null,
   "metadata": {},
   "outputs": [],
   "source": [
    "#ix1 = np.where(Grid.iloc[:,0] > 1.5)\n",
    "#ix2 = np.where(Grid.iloc[:,1] > 2.0)\n",
    "#print(ix1)\n",
    "#print(ix2)\n",
    "\n",
    "#ix = np.intersect1d(np.where(Grid.iloc[:,0] > 2.0)[0],np.where(Grid.iloc[:,1] > 2.0)[0])\n",
    "ix = np.where((Grid.iloc[:,0] > 1.5) & (Grid.iloc[:,1] > 2.0))\n",
    "print(ix)\n",
    "print(Grid.iloc[ix])"
   ]
  },
  {
   "cell_type": "code",
   "execution_count": null,
   "metadata": {},
   "outputs": [],
   "source": [
    "print(Grid.iloc[160:])"
   ]
  },
  {
   "cell_type": "code",
   "execution_count": null,
   "metadata": {},
   "outputs": [],
   "source": [
    "print(Grid.iloc[:5])\n",
    "xx = Grid.iloc[:,:2]\n",
    "xx = np.array(xx)\n",
    "print(type(xx))\n",
    "print(xx.shape)"
   ]
  },
  {
   "cell_type": "code",
   "execution_count": null,
   "metadata": {},
   "outputs": [],
   "source": [
    "ar = np.random.randint(0, 10, size=(3,4))\n",
    "print(ar)\n",
    "ar1 = ar[1:,:]\n",
    "print(ar1)\n",
    "np.mean(ar1, axis=0)"
   ]
  },
  {
   "cell_type": "code",
   "execution_count": null,
   "metadata": {},
   "outputs": [],
   "source": [
    "new_col = np.reshape(range(3), (3,1))\n",
    "print(new_col.shape)\n",
    "print(new_col)\n",
    "ar2 = np.hstack((ar, new_col))\n",
    "print(ar2)"
   ]
  },
  {
   "cell_type": "code",
   "execution_count": null,
   "metadata": {},
   "outputs": [],
   "source": [
    "ll = [1,2,3,4,5,6,7,8]\n",
    "ll1 = np.array(ll)\n",
    "ix = np.where(ll1 > 5)\n",
    "print(ix)"
   ]
  },
  {
   "cell_type": "code",
   "execution_count": null,
   "metadata": {},
   "outputs": [],
   "source": [
    "# this variable scope thing....never quite understand it.....\n",
    "initW1 = np.random.normal(0, 0.1, [1, 20])\n",
    "with tf.variable_scope('mine', reuse=tf.AUTO_REUSE) as Ohmine:\n",
    "    W1 = tf.get_variable('W1', [1,20])\n",
    "    print(W1)\n",
    "    with tf.variable_scope('mine_inner', reuse=tf.AUTO_REUSE) as Ohmine_in:\n",
    "        W1 = tf.get_variable('W1', [1,20])\n",
    "print(W1)    \n",
    "\n",
    "with tf.variable_scope('mine2', reuse=tf.AUTO_REUSE) as Ohmine2:\n",
    "    W1 = tf.get_variable('W1', [1,20])    \n",
    "print(W1)"
   ]
  },
  {
   "cell_type": "code",
   "execution_count": null,
   "metadata": {},
   "outputs": [],
   "source": [
    "x1 = np.random.randint(0,9,(3,4))\n",
    "x5 = np.random.randint(0,9,(2,3))\n",
    "manyX = [x1,2,3,4,x5]\n",
    "print(len(manyX))"
   ]
  },
  {
   "cell_type": "code",
   "execution_count": null,
   "metadata": {
    "collapsed": true
   },
   "outputs": [],
   "source": [
    "def foo(x):\n",
    "    x1, x2, x3, x4, x5 = x\n",
    "    print(x1.shape)\n",
    "    print(x5.shape)"
   ]
  },
  {
   "cell_type": "code",
   "execution_count": null,
   "metadata": {},
   "outputs": [],
   "source": [
    "foo(manyX)"
   ]
  },
  {
   "cell_type": "code",
   "execution_count": null,
   "metadata": {},
   "outputs": [],
   "source": [
    "x1 = np.random.normal(0, 0.1, (4,))\n",
    "print(x1.shape)\n",
    "print(x1[3])"
   ]
  },
  {
   "cell_type": "code",
   "execution_count": null,
   "metadata": {
    "collapsed": true
   },
   "outputs": [],
   "source": [
    "def GenearteRandomInit(N, Hn, sigma=0.1, fnm=None):\n",
    "    h0 = Hn[0]\n",
    "    h1 = Hn[0]*Hn[1] + h0\n",
    "    h2 = h1 + Hn[1]\n",
    "    h3 = h2 + Hn[0]\n",
    "    h4 = h3 + Hn[1]\n",
    "    h5 = h4 + 1\n",
    "    \n",
    "    initW1, initW2, initW3, initb1, initb2, initb3 = [], [], [], [], [], []\n",
    "    for i in range(N):\n",
    "        v = np.random.normal(0, sigma, (h5,)) \n",
    "        iW1 = v[:h0]\n",
    "        iW2 = v[h0:h1]\n",
    "        iW3 = v[h1:h2]\n",
    "        ib1 = v[h2:h3]\n",
    "        ib2 = v[h3:h4]\n",
    "        ib3 = v[h4:h5]\n",
    "        iW1 = np.reshape(iW1, newshape=(1, Hn[0]))\n",
    "        iW2 = np.reshape(iW2, newshape=(Hn[0], Hn[1]))\n",
    "        iW3 = np.reshape(iW3, newshape=(Hn[1], 1))\n",
    "        ib1 = np.reshape(ib1, newshape=(1, Hn[0]))\n",
    "        ib2 = np.reshape(ib2, newshape=(1, Hn[1]))\n",
    "        ib3 = np.reshape(ib3, newshape=(1, 1))\n",
    "        initW1.append(iW1)\n",
    "        initW2.append(iW2)\n",
    "        initW3.append(iW3)\n",
    "        initb1.append(ib1)\n",
    "        initb2.append(ib2)\n",
    "        initb3.append(ib3)\n",
    "\n",
    "    if fnm is not None:\n",
    "        with open(fnm, 'wb') as f:\n",
    "            pickle.dump({'initW1': initW1}, f)\n",
    "            pickle.dump({'initW2': initW2}, f)\n",
    "            pickle.dump({'initW3': initW3}, f)\n",
    "            pickle.dump({'initb1': initb1}, f)\n",
    "            pickle.dump({'initb2': initb2}, f)\n",
    "            pickle.dump({'initb3': initb3}, f)\n",
    "    return initW1, initW2, initW3, initb1, initb2, initb3"
   ]
  },
  {
   "cell_type": "code",
   "execution_count": null,
   "metadata": {},
   "outputs": [],
   "source": [
    "N=2\n",
    "Hn = [3,3]\n",
    "sigma = 0.1\n",
    "initW1, initW2, initW3, initb1, initb2, initb3 = GenearteRandomInit(N, Hn, sigma)\n",
    "print(len(initW1))\n",
    "print(initW1[0].shape)\n",
    "print(initW1[0])\n",
    "print(len(initW2))\n",
    "print(initW2[0].shape)\n",
    "print(initW1[1])"
   ]
  },
  {
   "cell_type": "code",
   "execution_count": null,
   "metadata": {},
   "outputs": [],
   "source": [
    "# NOTE : list of lists <==> matrix\n",
    "x1 = [1,2,3]\n",
    "x2 = [2,3,4]\n",
    "x3 = [3,4,5]\n",
    "xx = []\n",
    "xx.append(x1)\n",
    "xx.append(x2)\n",
    "xx.append(x3)\n",
    "print(xx)\n",
    "# xx is list of 3 lists, each of length 3\n",
    "# convert it to a matrix, or a numpy array\n",
    "mat = np.array(xx)\n",
    "# ... has shape 3 x 3\n",
    "print(mat.shape)\n",
    "print('mat :\\n',mat)\n",
    "# add constant to np array is OK\n",
    "print('add 2  :\\n', mat + 2)\n",
    "# multiply constant OK\n",
    "print('x 2:\\n', mat * 2)\n",
    "# column mean\n",
    "print(np.mean(mat, axis=0))\n",
    "# row mean\n",
    "print(np.mean(mat+2, axis=1))"
   ]
  },
  {
   "cell_type": "code",
   "execution_count": null,
   "metadata": {},
   "outputs": [],
   "source": [
    "PARAM = [np.random.randint(0,9, (2,4)) for _ in range(4)]\n",
    "print(len(PARAM))\n",
    "print(PARAM)"
   ]
  },
  {
   "cell_type": "code",
   "execution_count": null,
   "metadata": {},
   "outputs": [],
   "source": [
    "N_init = 4\n",
    "colmean = np.zeros((PARAM[0].shape[1]))    \n",
    "for i in range(N_init):\n",
    "    mat = np.array(PARAM[i])\n",
    "    tmp = np.mean(mat, axis=0)\n",
    "    print(tmp)\n",
    "    colmean = colmean + tmp\n",
    "print(colmean / N_init)    "
   ]
  }
 ],
 "metadata": {
  "kernelspec": {
   "display_name": "Python 3",
   "language": "python",
   "name": "python3"
  },
  "language_info": {
   "codemirror_mode": {
    "name": "ipython",
    "version": 3
   },
   "file_extension": ".py",
   "mimetype": "text/x-python",
   "name": "python",
   "nbconvert_exporter": "python",
   "pygments_lexer": "ipython3",
   "version": "3.6.6"
  }
 },
 "nbformat": 4,
 "nbformat_minor": 2
}
