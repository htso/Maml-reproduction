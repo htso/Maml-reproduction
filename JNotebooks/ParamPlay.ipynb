{
 "cells": [
  {
   "cell_type": "code",
   "execution_count": 4,
   "metadata": {},
   "outputs": [],
   "source": [
    "from __future__ import print_function\n",
    "import sys\n",
    "import os\n",
    "import time\n",
    "import csv\n",
    "import math\n",
    "import random\n",
    "import numpy as np\n",
    "import pandas as pd\n",
    "from scipy.cluster.hierarchy import dendrogram, linkage\n",
    "from scipy.cluster.hierarchy import fcluster\n",
    "import pickle\n",
    "import matplotlib.pyplot as plt\n",
    "from matplotlib.backends.backend_pdf import PdfPages\n",
    "import tensorflow as tf\n",
    "from tensorflow.contrib.layers.python import layers as tf_layers\n",
    "from FunGenerator import FunGenerator\n",
    "from sklearn.neighbors import DistanceMetric\n",
    "from sklearn import datasets, linear_model\n",
    "from sklearn.metrics import mean_squared_error, r2_score"
   ]
  },
  {
   "cell_type": "code",
   "execution_count": 2,
   "metadata": {},
   "outputs": [],
   "source": [
    "path = '/mnt/WanChai/Dropbox/Tensorflow-Mostly/MetaLearning/maml_ht/FitFunShapes/'\n",
    "home = '/mnt/WanChai/Dropbox/Tensorflow-Mostly/MetaLearning/maml_ht'\n",
    "os.chdir(home)\n",
    "\n",
    "fnm1 = 'MLPparam_Dist_Loss_TrainData-iter5k-start-from-lastParamMean.pkl'\n",
    "fnm2 = 'MLPparam_Dist_Loss_TrainData-iter200k-randomStart.pkl'\n",
    "fnm3 = 'InitW_and_initBias.pkl'"
   ]
  },
  {
   "cell_type": "code",
   "execution_count": 3,
   "metadata": {},
   "outputs": [
    {
     "name": "stdout",
     "output_type": "stream",
     "text": [
      "param len: 193\n",
      "param[0] len: 481\n",
      "dist len: 192\n",
      "loss_train len: 192\n",
      "loss_val len: 192\n",
      "yrange_train len: 192\n",
      "Hn: [20, 20]\n",
      "Grid shape: (192, 4)\n",
      "funX shape: (192, 400, 1)\n",
      "funY shape: (192, 400, 1)\n",
      "Lambda: 0.02\n",
      "loss_threshold: 1.0\n",
      "Ntrain: 200\n",
      "Nval: 100\n",
      "Ntest: 100\n",
      "max_iter: 100000\n",
      "min_iter: 10000\n",
      "xrng: [-15.707963267948966, 15.707963267948966]\n",
      "use_init_file: False\n"
     ]
    }
   ],
   "source": [
    "f = open(path+fnm2, 'rb')\n",
    "xx = pickle.load(f)\n",
    "param = xx['param']\n",
    "xx = pickle.load(f)\n",
    "dist = xx['dist_from_start']\n",
    "xx = pickle.load(f)\n",
    "loss_train = xx['loss_train']\n",
    "xx = pickle.load(f)\n",
    "loss_val = xx['loss_val']\n",
    "xx = pickle.load(f)\n",
    "yrange_train = xx['yrange_train']\n",
    "xx = pickle.load(f)\n",
    "Hn = xx['Hn']\n",
    "xx = pickle.load(f)\n",
    "Grid = xx['Grid']\n",
    "xx = pickle.load(f)\n",
    "funX = xx['funX']\n",
    "xx = pickle.load(f)\n",
    "funY = xx['funY']\n",
    "xx = pickle.load(f)\n",
    "Lambda = xx['Lambda']\n",
    "xx = pickle.load(f)\n",
    "loss_threshold = xx['loss_threshold']\n",
    "xx = pickle.load(f)\n",
    "Ntrain = xx['Ntrain']\n",
    "xx = pickle.load(f)\n",
    "Nval = xx['Nval']\n",
    "xx = pickle.load(f)\n",
    "Ntest = xx['Ntest']\n",
    "xx = pickle.load(f)\n",
    "max_iter = xx['max_iter']\n",
    "xx = pickle.load(f)\n",
    "min_iter = xx['min_iter']\n",
    "xx = pickle.load(f)\n",
    "xrng = xx['xrng']\n",
    "xx = pickle.load(f)\n",
    "use_init_file = xx['use_init_file']\n",
    "f.close()\n",
    "\n",
    "print('param len:', len(param))\n",
    "print('param[0] len:', len(param[1]))\n",
    "print('dist len:', len(dist))\n",
    "print('loss_train len:', len(loss_train))\n",
    "print('loss_val len:', len(loss_val))\n",
    "print('yrange_train len:', len(yrange_train))\n",
    "print('Hn:', Hn)\n",
    "print('Grid shape:', Grid.shape)\n",
    "print('funX shape:', funX.shape)\n",
    "print('funY shape:', funY.shape)\n",
    "print('Lambda:', Lambda)\n",
    "print('loss_threshold:', loss_threshold)\n",
    "print('Ntrain:', Ntrain)\n",
    "print('Nval:', Nval)\n",
    "print('Ntest:', Ntest)\n",
    "print('max_iter:', max_iter)\n",
    "print('min_iter:', min_iter)\n",
    "print('xrng:', xrng)\n",
    "print('use_init_file:', use_init_file)"
   ]
  },
  {
   "cell_type": "code",
   "execution_count": 4,
   "metadata": {},
   "outputs": [
    {
     "name": "stdout",
     "output_type": "stream",
     "text": [
      "loss_last len 192\n",
      "[0.8690561, 0.7282736, 0.6247058, 0.97422034, 0.9418678, 0.95583975, 0.7491814, 0.8344044, 0.8492783, 1.0041835]\n"
     ]
    }
   ],
   "source": [
    "loss_last = [ll[-1] for ll in loss_train]\n",
    "loss_val_last = [ll[-1] for ll in loss_val]\n",
    "print('loss_last len', len(loss_last))\n",
    "print(loss_last[:10])"
   ]
  },
  {
   "cell_type": "code",
   "execution_count": 10,
   "metadata": {},
   "outputs": [
    {
     "name": "stdout",
     "output_type": "stream",
     "text": [
      "param shape: (193, 481)\n",
      "param1 shape: (192, 481)\n"
     ]
    }
   ],
   "source": [
    "param_mat = np.array(param)\n",
    "print('param shape:', param_mat.shape)\n",
    "param_mat1 = param_mat[1:,:]\n",
    "print('param1 shape:', param_mat1.shape)"
   ]
  },
  {
   "cell_type": "code",
   "execution_count": 70,
   "metadata": {
    "collapsed": true
   },
   "outputs": [],
   "source": [
    "# location indices on the flat param vector 'colmean'\n",
    "h0 = Hn[0]\n",
    "h1 = Hn[0]*Hn[1] + h0\n",
    "h2 = h1 + Hn[1]\n",
    "h3 = h2 + Hn[0]\n",
    "h4 = h3 + Hn[1]\n",
    "h5 = h4 + 1"
   ]
  },
  {
   "cell_type": "code",
   "execution_count": 72,
   "metadata": {},
   "outputs": [
    {
     "name": "stdout",
     "output_type": "stream",
     "text": [
      "(192, 20)\n",
      "(192, 400)\n",
      "(192, 20)\n",
      "(192, 20)\n",
      "(192, 20)\n",
      "(192, 1)\n"
     ]
    }
   ],
   "source": [
    "W1 = param_mat1[:,:h0]\n",
    "W2 = param_mat1[:,h0:h1]\n",
    "W3 = param_mat1[:,h1:h2]\n",
    "b1 = param_mat1[:,h2:h3]\n",
    "b2 = param_mat1[:,h3:h4]\n",
    "b3 = param_mat1[:,h4:h5]\n",
    "print(W1.shape)\n",
    "print(W2.shape)\n",
    "print(W3.shape)\n",
    "print(b1.shape)\n",
    "print(b2.shape)\n",
    "print(b3.shape)"
   ]
  },
  {
   "cell_type": "code",
   "execution_count": 80,
   "metadata": {},
   "outputs": [
    {
     "name": "stdout",
     "output_type": "stream",
     "text": [
      "(192, 440)\n",
      "[[-5.33176422e-01 -3.36659133e-01 -4.64153647e-01 ... -1.36854302e-04\n",
      "   7.26568323e-05  3.23750952e-04]\n",
      " [-7.36414804e-05 -4.39772248e-01 -2.83498734e-01 ...  5.52247453e-04\n",
      "  -3.33342105e-01 -2.57826061e-04]\n",
      " [-3.72407705e-01 -7.89227247e-01 -4.32065129e-01 ...  9.96292710e-01\n",
      "   2.27909040e-05 -2.93495541e-05]\n",
      " ...\n",
      " [-1.46650243e+00 -1.71367252e+00 -2.61017354e-04 ...  4.25358489e-03\n",
      "   1.25235915e-02 -8.02076280e-01]\n",
      " [ 3.08348890e-03 -1.23335016e+00  7.65537739e-01 ... -1.11688930e-03\n",
      "  -8.77220416e-04 -6.04929752e-04]\n",
      " [-4.78964150e-01 -1.24974644e+00 -1.39697862e-03 ...  7.82158866e-04\n",
      "  -3.33241478e-04  4.20913013e-04]]\n"
     ]
    }
   ],
   "source": [
    "allW = param_mat1[:,:h2]\n",
    "print(allW.shape)\n",
    "print(allW)"
   ]
  },
  {
   "cell_type": "code",
   "execution_count": 74,
   "metadata": {},
   "outputs": [
    {
     "name": "stdout",
     "output_type": "stream",
     "text": [
      "Dmat : (192, 192)\n"
     ]
    }
   ],
   "source": [
    "Dist = DistanceMetric.get_metric('euclidean')\n",
    "Dmat = Dist.pairwise(allW)\n",
    "print('Dmat :', Dmat.shape)"
   ]
  },
  {
   "cell_type": "code",
   "execution_count": 79,
   "metadata": {
    "collapsed": true
   },
   "outputs": [],
   "source": [
    "Z = linkage(allW, 'ward')\n",
    "fig = plt.figure(figsize=(50, 10))\n",
    "dn = dendrogram(\n",
    "    Z,\n",
    "    #truncate_mode='lastp',  # show only the last p merged clusters\n",
    "    #p=12,  # show only the last p merged clusters\n",
    "    show_leaf_counts=True,  # otherwise numbers in brackets are counts\n",
    "    leaf_rotation=90.,\n",
    "    leaf_font_size=10.,\n",
    "    show_contracted=True  # to get a distribution impression in truncated branches\n",
    ")\n",
    "#plt.show()\n",
    "pp = PdfPages('allW_dendrog-ward.pdf')\n",
    "pp.savefig(fig, orientation = 'landscape')"
   ]
  },
  {
   "cell_type": "code",
   "execution_count": 90,
   "metadata": {},
   "outputs": [
    {
     "data": {
      "image/png": "[encoded data removed]",
      "text/plain": [
       "<matplotlib.figure.Figure at 0x7ff60e60a7b8>"
      ]
     },
     "metadata": {},
     "output_type": "display_data"
    }
   ],
   "source": [
    "v1 = allW[12,:]\n",
    "v2 = allW[51,:]\n",
    "ii = np.arange(allW.shape[1])\n",
    "fig, ax = plt.subplots(2,1, sharey=False, figsize=(14,8.27))\n",
    "ax[0].bar(ii, v1)\n",
    "ax[1].bar(ii, v2)\n",
    "plt.show()"
   ]
  },
  {
   "cell_type": "code",
   "execution_count": 91,
   "metadata": {},
   "outputs": [
    {
     "name": "stdout",
     "output_type": "stream",
     "text": [
      "6.644617144325086\n"
     ]
    }
   ],
   "source": [
    "v1 = param_mat1[62,:]\n",
    "v2 = param_mat1[63,:]\n",
    "d = np.linalg.norm(v1-v2)\n",
    "print(d)"
   ]
  },
  {
   "cell_type": "code",
   "execution_count": 66,
   "metadata": {},
   "outputs": [
    {
     "name": "stdout",
     "output_type": "stream",
     "text": [
      "27\n",
      "29.988771547798535\n",
      "[42.02255183 43.71202436 29.98877155 45.42838472 37.36539506]\n"
     ]
    }
   ],
   "source": [
    "ix = 174\n",
    "dd = Dmat[ix,:]\n",
    "dd[ix] = 10000\n",
    "im = np.argmin(dd)\n",
    "print(im)\n",
    "print(dd[im])\n",
    "print(dd[(im-2):(im+3)])"
   ]
  },
  {
   "cell_type": "code",
   "execution_count": 94,
   "metadata": {},
   "outputs": [
    {
     "name": "stdout",
     "output_type": "stream",
     "text": [
      "['asfds', 'aweffa']\n"
     ]
    }
   ],
   "source": [
    "x = [None]*2\n",
    "x[0] = 'asfds'\n",
    "\n",
    "x[1] = 'aweffa'\n",
    "print(x)"
   ]
  },
  {
   "cell_type": "code",
   "execution_count": 103,
   "metadata": {},
   "outputs": [
    {
     "name": "stdout",
     "output_type": "stream",
     "text": [
      "(4, 481)\n"
     ]
    }
   ],
   "source": [
    "path = '/media/rspace/WanChai/Dropbox/TSOTHOUGHTS/Tensorflow-CODE/maml_ht/FitFunShapes/'\n",
    "fnm1 = 'HC_k4_Mean_Matrix.pkl'\n",
    "fnm2 = 'HC_k4_Mean_Matrix1.pkl'\n",
    "\n",
    "f1 = open(path + fnm1, 'rb')\n",
    "xx = pickle.load(f1)\n",
    "w_mean_mat1 = xx['w_mean_mat']\n",
    "f1.close()\n",
    "\n",
    "print(w_mean_mat1.shape)\n",
    "\n",
    "# f2 = open(path + fnm2, 'rb')\n",
    "# xx = pickle.load(f2)\n",
    "# w_mean_mat2 = xx['w_mean_mat']\n",
    "# f2.close()\n",
    "\n",
    "# np.array_equal(w_mean_mat1, w_mean_mat2)"
   ]
  },
  {
   "cell_type": "code",
   "execution_count": 106,
   "metadata": {},
   "outputs": [
    {
     "name": "stdout",
     "output_type": "stream",
     "text": [
      "[[0 0 0 2]\n",
      " [7 6 8 8]\n",
      " [1 4 2 0]]\n",
      "[3 2 1]\n"
     ]
    }
   ],
   "source": [
    "ar = np.random.randint(0,9, (3,4))\n",
    "print(ar)\n",
    "print(np.argmax(ar, axis=1))"
   ]
  },
  {
   "cell_type": "code",
   "execution_count": 108,
   "metadata": {},
   "outputs": [
    {
     "name": "stdout",
     "output_type": "stream",
     "text": [
      "[[1 3 8 4]\n",
      " [7 4 1 2]\n",
      " [0 7 6 4]]\n",
      "[[False False False False]\n",
      " [ True False False False]\n",
      " [False False False False]]\n"
     ]
    }
   ],
   "source": [
    "ar1 = np.random.randint(0,9, (3,4))\n",
    "print(ar1)\n",
    "print(ar1 == ar)"
   ]
  },
  {
   "cell_type": "code",
   "execution_count": 67,
   "metadata": {},
   "outputs": [],
   "source": [
    "sigma = 1.0\n",
    "Hn = [20,20]\n",
    "initW1 = np.random.normal(0, sigma, [1, Hn[0]])\n",
    "initW2 = np.random.normal(0, sigma, [Hn[0], Hn[1]])\n",
    "initW3 = np.random.normal(0, sigma, [Hn[1], 1])\n",
    "initb1 = np.random.normal(0, sigma, [1, Hn[0]])\n",
    "initb2 = np.random.normal(0, sigma, [1, Hn[1]])\n",
    "initb3 = np.random.normal(0, sigma, [1, 1])\n",
    "v = np.concatenate([initW1.flatten(), initW2.flatten(), initW3.flatten(), \\\n",
    "                           initb1.flatten(), initb2.flatten(),initb3.flatten()])"
   ]
  },
  {
   "cell_type": "code",
   "execution_count": 68,
   "metadata": {
    "collapsed": true
   },
   "outputs": [
    {
     "name": "stdout",
     "output_type": "stream",
     "text": [
      "30.73815220774348\n",
      "30.14969571614987\n",
      "30.42398390100349\n",
      "32.0263794362099\n",
      "30.717015604312852\n",
      "31.3630999468253\n",
      "31.218016334523895\n",
      "30.104122562772087\n",
      "29.846878178985822\n",
      "32.15154942618369\n",
      "31.65716263127234\n",
      "28.467607824879444\n",
      "31.90625376998308\n",
      "30.723429379704598\n",
      "30.333829794955857\n",
      "30.792446074275915\n",
      "30.909242636332458\n",
      "31.61493041699983\n",
      "30.892454494101486\n",
      "29.776700934562754\n",
      "30.790453593598578\n",
      "30.249217493007038\n",
      "30.72343773872951\n",
      "30.893695922678386\n",
      "31.78543864518871\n",
      "31.690937396835434\n",
      "30.957927712896737\n",
      "31.0128761533345\n",
      "31.46789110434216\n",
      "30.434508933914245\n",
      "30.294816794074226\n",
      "30.04923127836647\n",
      "30.462412499360276\n",
      "30.502304671501633\n",
      "30.18507525610417\n",
      "31.850506294204326\n",
      "29.923135699630546\n",
      "29.566991710905207\n",
      "31.148978462104196\n",
      "29.578888456843508\n",
      "30.99134244502736\n",
      "30.60212323233729\n",
      "32.662857811363324\n",
      "30.911773329644127\n",
      "30.39128109120864\n",
      "30.83630965543157\n",
      "30.882369184457723\n",
      "29.596939170825067\n",
      "30.650721923292025\n",
      "29.007655251713203\n",
      "30.491830413097883\n",
      "31.825594472607925\n",
      "29.54837845806667\n",
      "32.3982085592946\n",
      "30.96614421152233\n",
      "32.40791806016724\n",
      "30.62332027855284\n",
      "30.44623497938024\n",
      "29.397604950437692\n",
      "31.1075210500505\n",
      "30.458491670946085\n",
      "30.50727743406175\n",
      "31.293755695285736\n",
      "31.295695052228336\n",
      "30.86440943413013\n",
      "31.311734534294192\n",
      "30.256798125196617\n",
      "31.886209328555204\n",
      "29.93868221001721\n",
      "30.61017649577525\n",
      "30.526703755417877\n",
      "30.863649534029083\n",
      "30.459279939989457\n",
      "31.28116654022391\n",
      "30.205146893652014\n",
      "30.137132994585066\n",
      "29.396501756288355\n",
      "30.206848023643385\n",
      "29.999738419563965\n",
      "29.80963522386305\n",
      "30.422620745063927\n",
      "31.18768853899221\n",
      "29.197517479174333\n",
      "29.897139814343667\n",
      "30.963610214249826\n",
      "28.433866130912154\n",
      "30.393330272068344\n",
      "30.247609935052346\n",
      "31.252280234730808\n",
      "31.77796809457759\n",
      "29.743848138920534\n",
      "29.46939576794773\n",
      "30.580277592970006\n",
      "32.20218286932474\n",
      "30.21101260169436\n",
      "30.321070866121403\n",
      "31.07745183927849\n",
      "31.483064310160874\n",
      "31.460170812623698\n",
      "29.85460003683154\n"
     ]
    }
   ],
   "source": [
    "for i in range(100):\n",
    "    initW1 = np.random.normal(0, sigma, [1, Hn[0]])\n",
    "    initW2 = np.random.normal(0, sigma, [Hn[0], Hn[1]])\n",
    "    initW3 = np.random.normal(0, sigma, [Hn[1], 1])\n",
    "    initb1 = np.random.normal(0, sigma, [1, Hn[0]])\n",
    "    initb2 = np.random.normal(0, sigma, [1, Hn[1]])\n",
    "    initb3 = np.random.normal(0, sigma, [1, 1])\n",
    "    v1 = np.concatenate([initW1.flatten(), initW2.flatten(), initW3.flatten(), \\\n",
    "                               initb1.flatten(), initb2.flatten(),initb3.flatten()])\n",
    "    d = np.linalg.norm(v - v1, axis=None)\n",
    "    print(d)"
   ]
  },
  {
   "cell_type": "code",
   "execution_count": 69,
   "metadata": {},
   "outputs": [
    {
     "name": "stdout",
     "output_type": "stream",
     "text": [
      "[0.615862102538099, 15.24220107509475, 0.0038831999945641714, 4.399863484378764, 0.06086515153016041, 1.009659878930796, 0.5188365893969593, 0.21875212073386163, 0.20919971477955546, 0.0010564818396367017]\n",
      "29.85460003683154\n"
     ]
    },
    {
     "data": {
      "text/plain": [
       "29.85460003683154"
      ]
     },
     "execution_count": 69,
     "metadata": {},
     "output_type": "execute_result"
    }
   ],
   "source": [
    "xx = [(x1-x2)**2 for x1, x2 in zip(v, v1)]\n",
    "print(xx[:10])\n",
    "print(np.sqrt(np.sum(xx)))\n",
    "np.linalg.norm(v - v1, axis=None)"
   ]
  },
  {
   "cell_type": "code",
   "execution_count": 70,
   "metadata": {},
   "outputs": [
    {
     "name": "stdout",
     "output_type": "stream",
     "text": [
      "481 480 460 440 420 20\n"
     ]
    }
   ],
   "source": [
    "h0 = Hn[0]\n",
    "h1 = Hn[0]*Hn[1] + h0\n",
    "h2 = h1 + Hn[1]\n",
    "h3 = h2 + Hn[0]\n",
    "h4 = h3 + Hn[1]\n",
    "h5 = h4 + 1\n",
    "print(h5, h4, h3, h2, h1, h0)"
   ]
  },
  {
   "cell_type": "code",
   "execution_count": 5,
   "metadata": {},
   "outputs": [],
   "source": [
    "from FunGenerator import FunGenerator\n",
    "FG = FunGenerator(num_pts=0, batch_size=0, randomize=False)"
   ]
  },
  {
   "cell_type": "code",
   "execution_count": 9,
   "metadata": {},
   "outputs": [
    {
     "name": "stdout",
     "output_type": "stream",
     "text": [
      "(2, 5, 1)\n"
     ]
    }
   ],
   "source": [
    "Xtr, Ytr, _, _ = FG.generate(num_pts=5, batch_size=1, x_range=[0,10], randomize=False, train=False, add_noise=False, noise_sd=0.1)\n",
    "print(Xtr.shape)\n",
    "#print(Xtr)"
   ]
  },
  {
   "cell_type": "code",
   "execution_count": 16,
   "metadata": {},
   "outputs": [
    {
     "name": "stdout",
     "output_type": "stream",
     "text": [
      "(1, 3)\n",
      "(3, 3)\n",
      "(3, 1)\n"
     ]
    }
   ],
   "source": [
    "import Fun_utils as fu\n",
    "N_init = 1\n",
    "Hn = [3,3]\n",
    "initW1, initW2, initW3, initb1, initb2, initb3 = fu.GenearteMultipleInitParam(N_init, Hn, sigma=0.05, fnm=None)\n",
    "print(initW1[0].shape)\n",
    "print(initW2[0].shape)\n",
    "print(initW3[0].shape)"
   ]
  },
  {
   "cell_type": "code",
   "execution_count": 20,
   "metadata": {},
   "outputs": [],
   "source": [
    "Npts = 5\n",
    "tf.reset_default_graph()\n",
    "xs = tf.placeholder(tf.float32, [None, 1])\n",
    "ys = tf.placeholder(tf.float32, [None, 1])\n",
    "W1 = tf.get_variable('W1', initializer=tf.constant(initW1[0], dtype=tf.float32))\n",
    "W2 = tf.get_variable('W2', initializer=tf.constant(initW2[0], dtype=tf.float32))\n",
    "W3 = tf.get_variable('W3', initializer=tf.constant(initW3[0], dtype=tf.float32))\n",
    "b1 = tf.get_variable('b1', initializer=tf.constant(initb1[0], dtype=tf.float32))\n",
    "b2 = tf.get_variable('b2', initializer=tf.constant(initb2[0], dtype=tf.float32))\n",
    "b3 = tf.get_variable('b3', initializer=tf.constant(initb3[0], dtype=tf.float32))\n",
    "H1 = tf.matmul(xs, W1) + b1\n",
    "A1 = tf.nn.tanh(H1)\n",
    "H2 = tf.matmul(A1, W2) + b2\n",
    "A2 = tf.nn.tanh(H2)\n",
    "y_hat = tf.matmul(A2, W3) + b3\n",
    "loss0 = tf.reduce_mean(tf.reduce_sum(tf.square(ys - y_hat), axis=0))\n",
    "loss = loss0\n",
    "train_step = tf.train.AdamOptimizer(1e-3).minimize(loss)"
   ]
  },
  {
   "cell_type": "code",
   "execution_count": 23,
   "metadata": {},
   "outputs": [],
   "source": [
    "sess = tf.Session()\n",
    "init = tf.global_variables_initializer()\n",
    "sess.run(init)"
   ]
  },
  {
   "cell_type": "code",
   "execution_count": 26,
   "metadata": {},
   "outputs": [
    {
     "name": "stdout",
     "output_type": "stream",
     "text": [
      "None\n"
     ]
    }
   ],
   "source": [
    "sess.run(train_step, feed_dict={xs:Xtr[0], ys:Ytr[0]})"
   ]
  },
  {
   "cell_type": "code",
   "execution_count": 22,
   "metadata": {},
   "outputs": [
    {
     "name": "stdout",
     "output_type": "stream",
     "text": [
      "(?, 3)\n",
      "(?, 3)\n",
      "Tensor(\"add_2:0\", shape=(?, 1), dtype=float32)\n"
     ]
    }
   ],
   "source": [
    "print(A1.shape)\n",
    "print(A2.shape)\n",
    "print(y_hat)"
   ]
  },
  {
   "cell_type": "code",
   "execution_count": 6,
   "metadata": {},
   "outputs": [
    {
     "name": "stdout",
     "output_type": "stream",
     "text": [
      "<class 'numpy.ndarray'>\n",
      "<class 'numpy.ndarray'>\n"
     ]
    },
    {
     "data": {
      "text/plain": [
       "array([[-4, -3, -2],\n",
       "       [-1,  0,  1],\n",
       "       [ 2,  3,  4]])"
      ]
     },
     "execution_count": 6,
     "metadata": {},
     "output_type": "execute_result"
    }
   ],
   "source": [
    "a = np.arange(9) - 4\n",
    "b = a.reshape((3, 3))\n",
    "print(type(a))\n",
    "print(type(b))\n",
    "b"
   ]
  },
  {
   "cell_type": "code",
   "execution_count": 39,
   "metadata": {},
   "outputs": [
    {
     "name": "stdout",
     "output_type": "stream",
     "text": [
      "3.0\n",
      "5.196152422706632\n",
      "9.0\n",
      "10.16847867518778\n",
      "11.844666116572434\n",
      "27.0\n",
      "729.0000000000002\n",
      "177146.9999999998\n"
     ]
    }
   ],
   "source": [
    "# distance betwn two vectors\n",
    "from numpy import linalg as LA\n",
    "# p-norm : p can be fraction\n",
    "print(LA.norm(b[0] - b[1], ord=np.Inf))\n",
    "print(LA.norm(b[0] - b[1], ord=2))\n",
    "print(LA.norm(b[0] - b[1], ord=1))\n",
    "print(LA.norm(b[0] - b[1], ord=0.9))\n",
    "print(LA.norm(b[0] - b[1], ord=0.8))\n",
    "print(LA.norm(b[0] - b[1], ord=0.5))\n",
    "print(LA.norm(b[0] - b[1], ord=0.2))\n",
    "print(LA.norm(b[0] - b[1], ord=0.1))\n",
    "# NOTE : as p gets smaller, the distance metric increases exponentially"
   ]
  },
  {
   "cell_type": "code",
   "execution_count": 4,
   "metadata": {},
   "outputs": [
    {
     "name": "stdout",
     "output_type": "stream",
     "text": [
      "[[ 0.          5.19615242 10.39230485]\n",
      " [ 5.19615242  0.          5.19615242]\n",
      " [10.39230485  5.19615242  0.        ]]\n"
     ]
    }
   ],
   "source": [
    "# pairwise distance matrix for rows of a matrix b\n",
    "# R's equivalence : dist(X)\n",
    "from sklearn.metrics.pairwise import euclidean_distances\n",
    "print(euclidean_distances(b, b))"
   ]
  },
  {
   "cell_type": "code",
   "execution_count": 9,
   "metadata": {},
   "outputs": [],
   "source": [
    "from Fun_utils import *\n",
    "Hn = [20,20]\n",
    "initW1, initW2, initW3, initb1, initb2, initb3 = GenearteMultipleInitParam(N=1, Hn=Hn, dim_input=1, dim_output=1, sigma=0.1, fnm=None)\n",
    "iParam = [initW1[0], initW2[0], initW3[0], initb1[0], initb2[0], initb3[0]]"
   ]
  },
  {
   "cell_type": "code",
   "execution_count": 23,
   "metadata": {},
   "outputs": [
    {
     "name": "stdout",
     "output_type": "stream",
     "text": [
      "<class 'numpy.ndarray'>\n",
      "(481,)\n"
     ]
    }
   ],
   "source": [
    "p0_base = np.concatenate((initW1[0].flatten(), initW2[0].flatten(), initW3[0].flatten(), initb1[0].flatten(), initb2[0].flatten(), initb3[0].flatten()), axis=0)\n",
    "print(type(p0_base))\n",
    "print(p0_base.shape)"
   ]
  },
  {
   "cell_type": "code",
   "execution_count": 6,
   "metadata": {},
   "outputs": [
    {
     "name": "stdout",
     "output_type": "stream",
     "text": [
      "[[1.]\n",
      " [1.]\n",
      " [1.]\n",
      " [1.]\n",
      " [1.]]\n"
     ]
    }
   ],
   "source": [
    "# test how np.random.uniform works\n",
    "xmin = 1.0\n",
    "xmax = 1.0\n",
    "x = np.random.uniform(xmin, xmax, [5, 1])\n",
    "print(x)"
   ]
  },
  {
   "cell_type": "code",
   "execution_count": 7,
   "metadata": {},
   "outputs": [
    {
     "name": "stdout",
     "output_type": "stream",
     "text": [
      "[0.         0.11111111 0.22222222 0.33333333 0.44444444 0.55555556\n",
      " 0.66666667 0.77777778 0.88888889 1.        ]\n"
     ]
    }
   ],
   "source": [
    "x = np.linspace(0, 1.0, num=10)\n",
    "print(x)"
   ]
  },
  {
   "cell_type": "code",
   "execution_count": 9,
   "metadata": {},
   "outputs": [
    {
     "data": {
      "text/plain": [
       "5.0"
      ]
     },
     "execution_count": 9,
     "metadata": {},
     "output_type": "execute_result"
    }
   ],
   "source": [
    "math.sqrt(25)"
   ]
  },
  {
   "cell_type": "code",
   "execution_count": 15,
   "metadata": {},
   "outputs": [
    {
     "name": "stdout",
     "output_type": "stream",
     "text": [
      "[ 0  1  2  3  4  5  6  7  8  9 10 11 12 13 14 15 16 17 18 19 20 21 22 23\n",
      " 24 25 26 27 28 29 30 31 32 33 34 35 36 37 38 39 40 41 42 43 44 45 46 47\n",
      " 48 49 50 51 52 53 54 55 56 57 58 59 60 61 62 63 64 65 66 67 68 69 70 71\n",
      " 72 73 74 75 76 77 78 79 80 81 82 83 84 85 86 87 88 89 90 91 92 93 94 95\n",
      " 96 97 98 99]\n",
      "[ 0  1  2  3  4  5  6  7  8  9 10 11 12 13 14 15 16 17 18 19 20 21 22 23\n",
      " 24 25 26 27 28 29 30 31 32 33 34 35 36 37 38 39 40 41 42 43 44 45 46 47\n",
      " 48 49 50 51 52 53 54 55 56 57 58 59 60 61 62 63 64 65 66 67 68 69 70 71\n",
      " 72 73 74 75 76 77 78 79 80 81 82 83 84 85 86 87 88 89 90 91 92 93 94 95\n",
      " 96 97 98 99]\n"
     ]
    }
   ],
   "source": [
    "x = np.arange(0, 100, 1)\n",
    "print(x)\n",
    "print(x[-200:])"
   ]
  },
  {
   "cell_type": "code",
   "execution_count": 17,
   "metadata": {},
   "outputs": [],
   "source": [
    "x = tf.constant([[[1.,1.,1.],[2.,2.,2.],[3.,3.,3.]],[[4.,4.,4.],[5.,5.,5.],[6.,6.,6.]]])"
   ]
  },
  {
   "cell_type": "code",
   "execution_count": 20,
   "metadata": {},
   "outputs": [
    {
     "name": "stdout",
     "output_type": "stream",
     "text": [
      "[[2. 2. 2.]\n",
      " [5. 5. 5.]]\n"
     ]
    }
   ],
   "source": [
    "sess = tf.Session()\n",
    "sess.run(tf.global_variables_initializer())\n",
    "print(sess.run(tf.reduce_mean(x, 1)))"
   ]
  },
  {
   "cell_type": "code",
   "execution_count": 6,
   "metadata": {},
   "outputs": [
    {
     "name": "stdout",
     "output_type": "stream",
     "text": [
      "dict_keys(['w1', 'b1', 'w2', 'b2', 'w3', 'b3'])\n"
     ]
    }
   ],
   "source": [
    "import tensorflow as tf\n",
    "\n",
    "dim_input = 1\n",
    "dim_output = 1\n",
    "dim_hidden = [40,40]\n",
    "weights = {}\n",
    "weights['w1'] = tf.Variable(tf.truncated_normal([dim_input, dim_hidden[0]], stddev=0.01))\n",
    "weights['b1'] = tf.Variable(tf.zeros([dim_hidden[0]]))\n",
    "for i in range(1,len(dim_hidden)):\n",
    "    weights['w'+str(i+1)] = tf.Variable(tf.truncated_normal([dim_hidden[i-1], dim_hidden[i]], stddev=0.01))\n",
    "    weights['b'+str(i+1)] = tf.Variable(tf.zeros([dim_hidden[i]]))\n",
    "weights['w'+str(len(dim_hidden)+1)] = tf.Variable(tf.truncated_normal([dim_hidden[-1], dim_output], stddev=0.01))\n",
    "weights['b'+str(len(dim_hidden)+1)] = tf.Variable(tf.zeros([dim_output]))\n",
    "print(weights.keys())"
   ]
  },
  {
   "cell_type": "code",
   "execution_count": 14,
   "metadata": {},
   "outputs": [
    {
     "name": "stdout",
     "output_type": "stream",
     "text": [
      "(5, 10)\n",
      "0.963464212898782\n",
      "-1.3620229995312072\n"
     ]
    }
   ],
   "source": [
    "from scipy.stats import truncnorm\n",
    "a = -1.5\n",
    "b = 1.2\n",
    "r = truncnorm.rvs(a, b, size=[5,10])\n",
    "print(r.shape)\n",
    "print(np.max(r))\n",
    "print(np.min(r))"
   ]
  },
  {
   "cell_type": "code",
   "execution_count": 17,
   "metadata": {},
   "outputs": [
    {
     "name": "stdout",
     "output_type": "stream",
     "text": [
      "[[0.]\n",
      " [1.]\n",
      " [2.]\n",
      " [3.]\n",
      " [4.]\n",
      " [5.]\n",
      " [6.]\n",
      " [7.]\n",
      " [8.]\n",
      " [9.]]\n"
     ]
    }
   ],
   "source": [
    "x = np.reshape(np.linspace(0, 9, num=10), newshape=(-1, 1))\n",
    "print(x)"
   ]
  },
  {
   "cell_type": "code",
   "execution_count": 25,
   "metadata": {},
   "outputs": [
    {
     "name": "stdout",
     "output_type": "stream",
     "text": [
      "[[2 3 1 7 4]\n",
      " [6 6 5 2 5]\n",
      " [3 1 6 4 7]\n",
      " [7 4 8 3 2]\n",
      " [1 1 1 5 4]\n",
      " [5 3 1 1 9]\n",
      " [0 0 8 4 3]\n",
      " [9 2 2 0 1]\n",
      " [0 3 6 8 6]\n",
      " [7 8 6 1 0]]\n",
      "[[1 7 4]\n",
      " [5 2 5]\n",
      " [6 4 7]\n",
      " [8 3 2]\n",
      " [1 5 4]\n",
      " [1 1 9]\n",
      " [8 4 3]\n",
      " [2 0 1]\n",
      " [6 8 6]\n",
      " [6 1 0]]\n"
     ]
    }
   ],
   "source": [
    "mat = np.random.randint(0,10, size=[10,5])\n",
    "print(mat)\n",
    "print(mat[:,2:])"
   ]
  },
  {
   "cell_type": "code",
   "execution_count": 28,
   "metadata": {},
   "outputs": [
    {
     "name": "stdout",
     "output_type": "stream",
     "text": [
      "[0 1 2 3 4 5 6 7 8 9]\n",
      "[5 3 7 8 6 9 1 4 0 2]\n",
      "[[5 3 1 1 9]\n",
      " [7 4 8 3 2]\n",
      " [9 2 2 0 1]\n",
      " [0 3 6 8 6]\n",
      " [0 0 8 4 3]\n",
      " [7 8 6 1 0]\n",
      " [6 6 5 2 5]\n",
      " [1 1 1 5 4]\n",
      " [2 3 1 7 4]\n",
      " [3 1 6 4 7]]\n"
     ]
    }
   ],
   "source": [
    "import random\n",
    "ix = np.arange(mat.shape[0])\n",
    "print(ix)\n",
    "random.shuffle(ix)\n",
    "print(ix)\n",
    "print(mat[ix,:])"
   ]
  },
  {
   "cell_type": "code",
   "execution_count": 44,
   "metadata": {},
   "outputs": [
    {
     "name": "stdout",
     "output_type": "stream",
     "text": [
      "[[9 7 3 7 4 3 9 7 6 2 6 6 8 5 8 1 7 8 9 9 1 0 1 0 5 1 3 1 5 5 3 4 3 0 3 3\n",
      "  0 6 8 7 7 6 9 4 5 1 1 7 3 7]\n",
      " [8 5 0 3 4 5 6 2 8 5 2 9 4 2 8 8 4 9 6 0 5 9 4 2 3 8 5 0 8 2 5 7 3 9 8 2\n",
      "  5 9 6 7 6 4 7 0 1 6 4 4 4 5]]\n"
     ]
    }
   ],
   "source": [
    "batch_size = 2\n",
    "num_pts = 50\n",
    "\n",
    "mat = np.random.randint(0,10, size=[batch_size,num_pts,1])\n",
    "print(mat[:,:,0])"
   ]
  },
  {
   "cell_type": "code",
   "execution_count": 50,
   "metadata": {},
   "outputs": [
    {
     "name": "stdout",
     "output_type": "stream",
     "text": [
      "n train 35\n",
      "n val 10\n",
      "n test 5\n"
     ]
    }
   ],
   "source": [
    "train_pct = 0.7\n",
    "val_pct = 0.2\n",
    "test_pct = 0.1\n",
    "\n",
    "n_train = int(train_pct * num_pts)\n",
    "n_val = int(val_pct * num_pts)\n",
    "n_test = num_pts - n_train - n_val\n",
    "\n",
    "print('n train', n_train)\n",
    "print('n val', n_val)\n",
    "print('n test', n_test)"
   ]
  },
  {
   "cell_type": "code",
   "execution_count": 54,
   "metadata": {},
   "outputs": [
    {
     "name": "stdout",
     "output_type": "stream",
     "text": [
      "45\n",
      "10\n",
      "(2, 35, 1)\n",
      "(2, 10, 1)\n",
      "(2, 5, 1)\n",
      "[[7 3 9 1 0 0 6 5 3 9]\n",
      " [7 8 8 8 9 2 4 8 5 7]]\n",
      "[[1 1 7 3 7]\n",
      " [6 4 4 4 5]]\n"
     ]
    }
   ],
   "source": [
    "mat1 = mat[:,:(n_train + n_val),:]\n",
    "\n",
    "ix = np.arange(n_train + n_val)\n",
    "#print(ix)\n",
    "random.shuffle(ix)\n",
    "#print(ix)\n",
    "print(len(ix))\n",
    "ix_train = ix[:n_train]\n",
    "ix_val = ix[-n_val:]\n",
    "print(len(ix_val))\n",
    "\n",
    "x_train = mat1[:,ix_train, :]\n",
    "x_val = mat1[:,ix_val, :]\n",
    "x_test = mat[:,-n_test:,:]\n",
    "print(x_train.shape)\n",
    "print(x_val.shape)\n",
    "print(x_test.shape)\n",
    "print(x_val[:,:,0])\n",
    "print(x_test[:,:,0])"
   ]
  },
  {
   "cell_type": "code",
   "execution_count": 52,
   "metadata": {},
   "outputs": [
    {
     "name": "stdout",
     "output_type": "stream",
     "text": [
      "[0 1 2 3 4 5 6]\n",
      "[7 8 9]\n"
     ]
    }
   ],
   "source": [
    "ix = np.arange(10)\n",
    "print(ix[:7])\n",
    "print(ix[-3:])"
   ]
  },
  {
   "cell_type": "code",
   "execution_count": 55,
   "metadata": {},
   "outputs": [
    {
     "name": "stdout",
     "output_type": "stream",
     "text": [
      "[0 8 9 4 8 9 7 3 7 4 1 8 4 1 2 0 0 9 9 5]\n",
      "[0 0 0 1 1 2 3 4 4 4 5 7 7 8 8 8 9 9 9 9]\n"
     ]
    }
   ],
   "source": [
    "a = np.random.randint(0,10, size=20)\n",
    "print(a)\n",
    "print(np.sort(a))"
   ]
  },
  {
   "cell_type": "code",
   "execution_count": 5,
   "metadata": {},
   "outputs": [
    {
     "name": "stdout",
     "output_type": "stream",
     "text": [
      "inf\n"
     ]
    }
   ],
   "source": [
    "x1 = max(1, -1, 2, math.inf)\n",
    "print(x1)"
   ]
  }
 ],
 "metadata": {
  "kernelspec": {
   "display_name": "Python 3",
   "language": "python",
   "name": "python3"
  },
  "language_info": {
   "codemirror_mode": {
    "name": "ipython",
    "version": 3
   },
   "file_extension": ".py",
   "mimetype": "text/x-python",
   "name": "python",
   "nbconvert_exporter": "python",
   "pygments_lexer": "ipython3",
   "version": "3.7.3"
  }
 },
 "nbformat": 4,
 "nbformat_minor": 2
}
